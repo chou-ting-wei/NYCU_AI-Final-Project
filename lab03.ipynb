{
  "nbformat": 4,
  "nbformat_minor": 0,
  "metadata": {
    "colab": {
      "provenance": []
    },
    "kernelspec": {
      "name": "python3",
      "display_name": "Python 3"
    },
    "language_info": {
      "name": "python"
    }
  },
  "cells": [
    {
      "cell_type": "code",
      "execution_count": null,
      "metadata": {
        "id": "UtPAwZEv31Mt"
      },
      "outputs": [],
      "source": [
        "import re\n",
        "\n",
        "def remove_punctuation(input_string):\n",
        "    # Replace punctuation with space\n",
        "    input_string = re.sub(r'[^\\w\\s]', ' ', input_string)\n",
        "    # Remove extra spaces\n",
        "    input_string = re.sub(r'\\s+', ' ', input_string).strip()\n",
        "    return input_string\n"
      ]
    },
    {
      "cell_type": "code",
      "source": [
        "test_string1 = \"\"\"Today we give thanks to Almighty God for a great deliverance. Speaking from our Empire’s oldest capital city, war-battered but never for one moment daunted or dismayed – speaking from London, I ask you to join with me in that act of thanksgiving. Germany, the enemy who drove all Europe into war, has been finally overcome. In the Far East we have yet to deal with the Japanese, a determined and cruel foe. To this we shall turn with the utmost resolve and with all our resources. But at this hour, when the dreadful shadow of war has passed from our hearths and homes in these islands, we may at last make one pause for thanksgiving and then turn our thoughts to the tasks all over the world which peace in Europe brings with it.\"\"\"\n",
        "test_string2 = \"\"\"Unthrifty loveliness why dost thou spend, Upon thy self thy beauty's legacy? Nature's bequest gives nothing but doth lend, And being frank she lends to those are free: Then beauteous niggard why dost thou abuse, The bounteous largess given thee to give? Profitless usurer why dost thou use So great a sum of sums yet canst not live?\"\"\"\n",
        "test_string3 = \"\"\"Numpy is a great framework, but it cannot utilize GPUs to accelerate its numerical computations. For modern deep neural networks, GPUs often provide speedups of 50x or greater, so unfortunately numpy won’t be enough for modern deep learning. Here we introduce the most fundamental PyTorch concept: the Tensor. A PyTorch Tensor is conceptually identical to a numpy array: a Tensor is an n-dimensional array, and PyTorch provides many functions for operating on these Tensors. Behind the scenes, Tensors can keep track of a computational graph and gradients, but they’re also useful as a generic tool for scientific computing. Also unlike numpy, PyTorch Tensors can utilize GPUs to accelerate their numeric computations. To run a PyTorch Tensor on GPU, you simply need to specify the correct device.\"\"\"\n",
        "test_string4 = \"\"\"Phylogenetic analyses were carried out using ML as implemented in RAxML v8.0.0 (Stamatakis, 2014) through the CIPRES Science Gateway (Miller, Pfeiffer & Scwartz, 2010) and Bayesian methods using BEAST v1.7.5 (Drummond & Rambaut, 2007), using the partitioning schemes determined by PartitionFinder. Nodal support for the ML analysis was assessed using the fast bootstrapping algorithm of RAxML and was allowed to halt automatically. Because there was significant base compositional heterogeneity in the data, two approaches to eliminate the effects of that heterogeneity and better assess the phylogenetic position of Paedocypris were attempted; two partitions with significant heterogeneity (third codon positions of EGR3 and Rh) were removed, and all gene sequences were translated to amino acids.\"\"\"\n",
        "test_string5 = \"\"\"To which the Pig answered, \"No, no, by the hair of my chinny chin chin.\" \"Then I'll huff and I'll puff, and I'll blow your house in!\" said the Wolf. So he huffed and he puffed, and he blew his house in, and ate up the little Pig. The second Pig met a Man with a bundle of furze, and said, \"Please, Man, give me that furze to build a house\"; which the Man did, and the Pig built his house. Then along came the Wolf and said, \"Little Pig, little Pig, let me come in.\" \"No, no, by the hair of my chinny chin chin.\" \"Then I'll puff and I'll huff, and I'll blow your house in!\" So he huffed and he puffed, and he puffed and he huffed, and at last he blew the house down, and ate up the second little Pig. Well, he huffed and he puffed, and he huffed and he puffed, and he puffed and he huffed; but he could not get the house down. When he found that he could not, with all his huffing and puffing, blow the house down, he said, \"Little Pig, I know where there is a nice field of turnips.\" \"Where?\" said the little Pig.\"\"\"\n",
        "test_string6 = \"\"\"Technology is viewed as one actor among many in changing configurations of social and technical elements (Law and Hassard, 1999). Unlike the view of technology in social essentialism, it is not a blank slate to be interpreted because technology itself co-ordinates clinical and organisational aspects of health care. Neither is technology a ‘super’ actor stifling all other interactions as presented in the strong form of technological determinism; its agency is constituted by others and in turn constitutes the actions of others (Callon and Law 1982).\"\"\""
      ],
      "metadata": {
        "id": "Z2v1vlQa5Sxy"
      },
      "execution_count": null,
      "outputs": []
    },
    {
      "cell_type": "code",
      "source": [
        "test_string1 = \"\"\"Speaking from our Empire’s oldest capital city, war-battered but never for one moment daunted or dismayed – speaking from London, I ask you to join with me in that act of thanksgiving.\"\"\"\n",
        "test_string2 = \"\"\"Nature's bequest gives nothing but doth lend, And being frank she lends to those are free: Then beauteous niggard why dost thou abuse, The bounteous largess given thee to give?\"\"\"\n",
        "test_string3 = \"\"\"Numpy is a great framework, but it cannot utilize GPUs to accelerate its numerical computations. For modern deep neural networks, GPUs often provide speedups of 50x or greater, so unfortunately numpy won’t be enough for modern deep learning.\"\"\"\n",
        "test_string4 = \"\"\"Phylogenetic analyses were carried out using ML as implemented in RAxML v8.0.0 (Stamatakis, 2014) through the CIPRES Science Gateway (Miller, Pfeiffer & Scwartz, 2010) and Bayesian methods using BEAST v1.7.5 (Drummond & Rambaut, 2007), using the partitioning schemes determined by PartitionFinder.\"\"\"\n",
        "test_string5 = \"\"\"So he huffed and he puffed, and he blew his house in, and ate up the little Pig. The second Pig met a Man with a bundle of furze, and said, \"Please, Man, give me that furze to build a house\"; which the Man did.\"\"\"\n",
        "test_string6 = \"\"\"Neither is technology a ‘super’ actor stifling all other interactions as presented in the strong form of technological determinism; its agency is constituted by others and in turn constitutes the actions of others.\"\"\""
      ],
      "metadata": {
        "id": "fAALVWF5CS4u"
      },
      "execution_count": null,
      "outputs": []
    },
    {
      "cell_type": "code",
      "source": [
        "test_string = test_string1\n",
        "clean_string = remove_punctuation(test_string)\n",
        "print(f\"Original: {test_string}\")\n",
        "print(f\"Cleaned:  {clean_string}\")"
      ],
      "metadata": {
        "colab": {
          "base_uri": "https://localhost:8080/"
        },
        "id": "es1AUeCQ35nN",
        "outputId": "6e4be958-3857-473d-cba9-92a9c22499d9"
      },
      "execution_count": null,
      "outputs": [
        {
          "output_type": "stream",
          "name": "stdout",
          "text": [
            "Original: Speaking from our Empire’s oldest capital city, war-battered but never for one moment daunted or dismayed – speaking from London, I ask you to join with me in that act of thanksgiving.\n",
            "Cleaned:  Speaking from our Empire s oldest capital city war battered but never for one moment daunted or dismayed speaking from London I ask you to join with me in that act of thanksgiving\n"
          ]
        }
      ]
    },
    {
      "cell_type": "code",
      "source": [
        "for i in range(1, 7):\n",
        "    print(f\"clean_string{i}: \", end=\"\")\n",
        "    print(remove_punctuation(eval((f\"test_string{i}\"))))"
      ],
      "metadata": {
        "colab": {
          "base_uri": "https://localhost:8080/"
        },
        "id": "VwHdynof9SOC",
        "outputId": "7778cd18-7a5a-45eb-bad7-be7a594725b8"
      },
      "execution_count": null,
      "outputs": [
        {
          "output_type": "stream",
          "name": "stdout",
          "text": [
            "clean_string1: Speaking from our Empire s oldest capital city war battered but never for one moment daunted or dismayed speaking from London I ask you to join with me in that act of thanksgiving\n",
            "clean_string2: Nature s bequest gives nothing but doth lend And being frank she lends to those are free Then beauteous niggard why dost thou abuse The bounteous largess given thee to give\n",
            "clean_string3: Numpy is a great framework but it cannot utilize GPUs to accelerate its numerical computations For modern deep neural networks GPUs often provide speedups of 50x or greater so unfortunately numpy won t be enough for modern deep learning\n",
            "clean_string4: Phylogenetic analyses were carried out using ML as implemented in RAxML v8 0 0 Stamatakis 2014 through the CIPRES Science Gateway Miller Pfeiffer Scwartz 2010 and Bayesian methods using BEAST v1 7 5 Drummond Rambaut 2007 using the partitioning schemes determined by PartitionFinder\n",
            "clean_string5: So he huffed and he puffed and he blew his house in and ate up the little Pig The second Pig met a Man with a bundle of furze and said Please Man give me that furze to build a house which the Man did\n",
            "clean_string6: Neither is technology a super actor stifling all other interactions as presented in the strong form of technological determinism its agency is constituted by others and in turn constitutes the actions of others\n"
          ]
        }
      ]
    },
    {
      "cell_type": "code",
      "source": [
        "# from our model\n",
        "clean_string_1 = \"\"\"\"\"\"\n",
        "clean_string_2 = \"\"\"\"\"\"\n",
        "clean_string_3 = \"\"\"\"\"\"\n",
        "clean_string_4 = \"\"\"\"\"\"\n",
        "clean_string_5 = \"\"\"\"\"\"\n",
        "clean_string_6 = \"\"\"\"\"\""
      ],
      "metadata": {
        "id": "JrYueX6fRP_M"
      },
      "execution_count": null,
      "outputs": []
    },
    {
      "cell_type": "code",
      "source": [
        "# from GPT-4o\n",
        "clean_GPT4o_1 = \"\"\"Speaking from our Empire's oldest capital city, war-battered but never for one moment daunted or dismayed, speaking from London, I ask you to join with me in that act of thanksgiving.\"\"\"\n",
        "clean_GPT4o_2 = \"\"\"Nature's bequest gives nothing but doth lend; And being frank, she lends to those are free: Then beauteous niggard, why dost thou abuse The bounteous largess given thee to give?\"\"\"\n",
        "clean_GPT4o_3 = \"\"\"Numpy is a great framework, but it cannot utilize GPUs to accelerate its numerical computations. For modern deep neural networks, GPUs often provide speedups of 50x or greater, so unfortunately numpy won’t be enough for modern deep learning.\"\"\"\n",
        "clean_GPT4o_4 = \"\"\"Phylogenetic analyses were carried out using ML as implemented in RAxML v8.0.0 (Stamatakis, 2014) through the CIPRES Science Gateway (Miller, Pfeiffer, & Schwartz, 2010) and Bayesian methods using BEAST v1.7.5 (Drummond & Rambaut, 2007), using the partitioning schemes determined by PartitionFinder.\"\"\"\n",
        "clean_GPT4o_5 = \"\"\"So he huffed, and he puffed, and he blew his house in and ate up the little Pig. The second Pig met a Man with a bundle of furze and said, \"Please, Man, give me that furze to build a house,\" which the Man did.\"\"\"\n",
        "clean_GPT4o_6 = \"\"\"Neither is technology a super actor stifling all other interactions as presented in the strong form of technological determinism; its agency is constituted by others and in turn constitutes the actions of others.\"\"\""
      ],
      "metadata": {
        "id": "84cZ0c23Drel"
      },
      "execution_count": null,
      "outputs": []
    },
    {
      "cell_type": "code",
      "source": [
        "# from GPT-3.5\n",
        "clean_GPT35_1 = \"\"\"Speaking from our Empire's oldest capital city, war-battered but never for one moment daunted or dismayed, speaking from London, I ask you to join with me in that act of thanksgiving.\"\"\"\n",
        "clean_GPT35_2 = \"\"\"Nature's bequest gives nothing, but doth lend, And being frank, she lends to those are free. Then, beauteous niggard, why dost thou abuse The bounteous largess given thee to give?\"\"\"\n",
        "clean_GPT35_3 = \"\"\"Numpy is a great framework, but it cannot utilize GPUs to accelerate its numerical computations. For modern deep neural networks, GPUs often provide speedups of 50x or greater, so unfortunately, numpy won't be enough for modern deep learning.\"\"\"\n",
        "clean_GPT35_4 = \"\"\"Phylogenetic analyses were carried out using ML as implemented in RAxML v8.0.0 (Stamatakis, 2014) through the CIPRES Science Gateway (Miller, Pfeiffer, & Schwartz, 2010), and Bayesian methods using BEAST v1.7.5 (Drummond & Rambaut, 2007), using the partitioning schemes determined by PartitionFinder.\"\"\"\n",
        "clean_GPT35_5 = \"\"\"So he huffed and he puffed and he blew his house in and ate up the little Pig. The second Pig met a Man with a bundle of furze and said, \"Please, Man, give me that furze to build a house,\" which the Man did.\"\"\"\n",
        "clean_GPT35_6 = \"\"\"Neither is technology a super actor stifling all other interactions as presented in the strong form of technological determinism; its agency is constituted by others and, in turn, constitutes the actions of others.\"\"\""
      ],
      "metadata": {
        "id": "Akh8FFiVPQPH"
      },
      "execution_count": null,
      "outputs": []
    },
    {
      "cell_type": "code",
      "source": [
        "import difflib\n",
        "\n",
        "# Function to compare strings\n",
        "def compare_strings(str1, str2):\n",
        "    diff = difflib.ndiff(str1.splitlines(), str2.splitlines())\n",
        "    return '\\n'.join(diff)\n",
        "\n",
        "# Compare the strings\n",
        "for i in range(1, 7):\n",
        "    print(f\"Comparison {i}:\")\n",
        "    differences = compare_strings(eval(f\"clean_GPT4o_{i}\"), eval(f\"clean_GPT35_{i}\"))\n",
        "    print(differences)\n",
        "\n",
        "\n",
        "# - (minus sign): Indicates a line that is present in the first string but not in the second string. It shows deletions.\n",
        "# + (plus sign): Indicates a line that is present in the second string but not in the first string. It shows additions.\n",
        "# ? (question mark): Provides additional context about the differences within lines marked with - or +. It is used to highlight specific character-level differences.\n",
        "# ^ (caret): Indicates the specific positions of characters that differ between the lines. The carets are used within the ? lines to point to the exact character positions that are different."
      ],
      "metadata": {
        "colab": {
          "base_uri": "https://localhost:8080/"
        },
        "id": "X22lrNLnD25B",
        "outputId": "a072cd14-8bfa-40c0-ca96-eb479b067a5b"
      },
      "execution_count": null,
      "outputs": [
        {
          "output_type": "stream",
          "name": "stdout",
          "text": [
            "Comparison 1:\n",
            "  Speaking from our Empire's oldest capital city, war-battered but never for one moment daunted or dismayed, speaking from London, I ask you to join with me in that act of thanksgiving.\n",
            "Comparison 2:\n",
            "- Nature's bequest gives nothing but doth lend; And being frank, she lends to those are free: Then beauteous niggard, why dost thou abuse The bounteous largess given thee to give?\n",
            "?                                             ^                                             ^\n",
            "\n",
            "+ Nature's bequest gives nothing, but doth lend, And being frank, she lends to those are free. Then, beauteous niggard, why dost thou abuse The bounteous largess given thee to give?\n",
            "?                               +              ^                                             ^     +\n",
            "\n",
            "Comparison 3:\n",
            "- Numpy is a great framework, but it cannot utilize GPUs to accelerate its numerical computations. For modern deep neural networks, GPUs often provide speedups of 50x or greater, so unfortunately numpy won’t be enough for modern deep learning.\n",
            "?                                                                                                                                                                                                            ^^\n",
            "\n",
            "+ Numpy is a great framework, but it cannot utilize GPUs to accelerate its numerical computations. For modern deep neural networks, GPUs often provide speedups of 50x or greater, so unfortunately, numpy won't be enough for modern deep learning.\n",
            "?                                                                                                                                                                                                  +          ^^\n",
            "\n",
            "Comparison 4:\n",
            "- Phylogenetic analyses were carried out using ML as implemented in RAxML v8.0.0 (Stamatakis, 2014) through the CIPRES Science Gateway (Miller, Pfeiffer, & Schwartz, 2010) and Bayesian methods using BEAST v1.7.5 (Drummond & Rambaut, 2007), using the partitioning schemes determined by PartitionFinder.\n",
            "?                                                                                                                                                                          ^^^^\n",
            "\n",
            "+ Phylogenetic analyses were carried out using ML as implemented in RAxML v8.0.0 (Stamatakis, 2014) through the CIPRES Science Gateway (Miller, Pfeiffer, & Schwartz, 2010), and Bayesian methods using BEAST v1.7.5 (Drummond & Rambaut, 2007), using the partitioning schemes determined by PartitionFinder.\n",
            "?                                                                                                                                                                          ^^^^^\n",
            "\n",
            "Comparison 5:\n",
            "- So he huffed, and he puffed, and he blew his house in and ate up the little Pig. The second Pig met a Man with a bundle of furze and said, \"Please, Man, give me that furze to build a house,\" which the Man did.\n",
            "?             ^^^^^^^^       ^^^^^^^^\n",
            "\n",
            "+ So he huffed and he puffed and he blew his house in and ate up the little Pig. The second Pig met a Man with a bundle of furze and said, \"Please, Man, give me that furze to build a house,\" which the Man did.\n",
            "?             ^^^^^^^       ^^^^^^^\n",
            "\n",
            "Comparison 6:\n",
            "- Neither is technology a super actor stifling all other interactions as presented in the strong form of technological determinism; its agency is constituted by others and in turn constitutes the actions of others.\n",
            "?                                                                                                                                                                          ^^^^^^^^^^^^^^^^^^^^^^^^^^^^^^^^^^^\n",
            "\n",
            "+ Neither is technology a super actor stifling all other interactions as presented in the strong form of technological determinism; its agency is constituted by others and, in turn, constitutes the actions of others.\n",
            "?                                                                                                                                                                          ^^^^^^^^^^^^^^^^^^^^^^^^^^^^^^^^^^^^^\n",
            "\n"
          ]
        }
      ]
    }
  ]
}